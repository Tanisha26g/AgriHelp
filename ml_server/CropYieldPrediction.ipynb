{
 "cells": [
  {
   "cell_type": "code",
   "execution_count": 26,
   "id": "a9b3bd28-dd87-4cbf-b2d4-9108612276c6",
   "metadata": {},
   "outputs": [],
   "source": [
    "import pandas as pd\n",
    "import numpy as np\n",
    "import matplotlib.pyplot as plt"
   ]
  },
  {
   "cell_type": "markdown",
   "id": "77dce247-cade-4a7b-b56c-6724e8c22d1e",
   "metadata": {},
   "source": [
    "## **DATA DEFINITION**\n",
    "1. **Crop:** The name of the crop cultivated.\n",
    "2. **Crop_Year:** The year in which the crop was grown.\r",
    "3. **Season:** The specific cropping season (e.g., Kharif, Rabi, Whole Year)r)State: The Indian state where the crop was cultivated.\n",
    "4. **Area:** The total land area (in hectares) under cultivation for the specific crop.\n",
    "7. **Production:** The quantity of crop production (in metric tons).\n",
    "9. **Annual_Rainfall:** The annual rainfall received in the crop-growing region (in mm).\n",
    "11. **Fertilizer:** The total amount of fertilizer used for the crop (in kilograms).\n",
    "13. **Pesticide:** The total amount of pesticide used for the crop (in kilograms).\n",
    "15. **Yield:** The calculated crop yield (production per unit area). it area)."
   ]
  },
  {
   "cell_type": "code",
   "execution_count": 2,
   "id": "ef2d70b6-df66-46f0-96e1-0a9154adf9ca",
   "metadata": {},
   "outputs": [],
   "source": [
    "df=pd.read_csv(\"./data/crop_yield.csv\")"
   ]
  },
  {
   "cell_type": "code",
   "execution_count": 3,
   "id": "62bcbb8e-10fa-4b5b-ab5f-54394a3d68bd",
   "metadata": {},
   "outputs": [
    {
     "data": {
      "text/html": [
       "<div>\n",
       "<style scoped>\n",
       "    .dataframe tbody tr th:only-of-type {\n",
       "        vertical-align: middle;\n",
       "    }\n",
       "\n",
       "    .dataframe tbody tr th {\n",
       "        vertical-align: top;\n",
       "    }\n",
       "\n",
       "    .dataframe thead th {\n",
       "        text-align: right;\n",
       "    }\n",
       "</style>\n",
       "<table border=\"1\" class=\"dataframe\">\n",
       "  <thead>\n",
       "    <tr style=\"text-align: right;\">\n",
       "      <th></th>\n",
       "      <th>Crop</th>\n",
       "      <th>Crop_Year</th>\n",
       "      <th>Season</th>\n",
       "      <th>State</th>\n",
       "      <th>Area</th>\n",
       "      <th>Production</th>\n",
       "      <th>Annual_Rainfall</th>\n",
       "      <th>Fertilizer</th>\n",
       "      <th>Pesticide</th>\n",
       "      <th>Yield</th>\n",
       "    </tr>\n",
       "  </thead>\n",
       "  <tbody>\n",
       "    <tr>\n",
       "      <th>0</th>\n",
       "      <td>Arecanut</td>\n",
       "      <td>1997</td>\n",
       "      <td>Whole Year</td>\n",
       "      <td>Assam</td>\n",
       "      <td>73814.0</td>\n",
       "      <td>56708</td>\n",
       "      <td>2051.4</td>\n",
       "      <td>7024878.38</td>\n",
       "      <td>22882.34</td>\n",
       "      <td>0.796087</td>\n",
       "    </tr>\n",
       "    <tr>\n",
       "      <th>1</th>\n",
       "      <td>Arhar/Tur</td>\n",
       "      <td>1997</td>\n",
       "      <td>Kharif</td>\n",
       "      <td>Assam</td>\n",
       "      <td>6637.0</td>\n",
       "      <td>4685</td>\n",
       "      <td>2051.4</td>\n",
       "      <td>631643.29</td>\n",
       "      <td>2057.47</td>\n",
       "      <td>0.710435</td>\n",
       "    </tr>\n",
       "    <tr>\n",
       "      <th>2</th>\n",
       "      <td>Castor seed</td>\n",
       "      <td>1997</td>\n",
       "      <td>Kharif</td>\n",
       "      <td>Assam</td>\n",
       "      <td>796.0</td>\n",
       "      <td>22</td>\n",
       "      <td>2051.4</td>\n",
       "      <td>75755.32</td>\n",
       "      <td>246.76</td>\n",
       "      <td>0.238333</td>\n",
       "    </tr>\n",
       "    <tr>\n",
       "      <th>3</th>\n",
       "      <td>Coconut</td>\n",
       "      <td>1997</td>\n",
       "      <td>Whole Year</td>\n",
       "      <td>Assam</td>\n",
       "      <td>19656.0</td>\n",
       "      <td>126905000</td>\n",
       "      <td>2051.4</td>\n",
       "      <td>1870661.52</td>\n",
       "      <td>6093.36</td>\n",
       "      <td>5238.051739</td>\n",
       "    </tr>\n",
       "    <tr>\n",
       "      <th>4</th>\n",
       "      <td>Cotton(lint)</td>\n",
       "      <td>1997</td>\n",
       "      <td>Kharif</td>\n",
       "      <td>Assam</td>\n",
       "      <td>1739.0</td>\n",
       "      <td>794</td>\n",
       "      <td>2051.4</td>\n",
       "      <td>165500.63</td>\n",
       "      <td>539.09</td>\n",
       "      <td>0.420909</td>\n",
       "    </tr>\n",
       "  </tbody>\n",
       "</table>\n",
       "</div>"
      ],
      "text/plain": [
       "           Crop  Crop_Year       Season  State     Area  Production  \\\n",
       "0      Arecanut       1997  Whole Year   Assam  73814.0       56708   \n",
       "1     Arhar/Tur       1997  Kharif       Assam   6637.0        4685   \n",
       "2   Castor seed       1997  Kharif       Assam    796.0          22   \n",
       "3      Coconut        1997  Whole Year   Assam  19656.0   126905000   \n",
       "4  Cotton(lint)       1997  Kharif       Assam   1739.0         794   \n",
       "\n",
       "   Annual_Rainfall  Fertilizer  Pesticide        Yield  \n",
       "0           2051.4  7024878.38   22882.34     0.796087  \n",
       "1           2051.4   631643.29    2057.47     0.710435  \n",
       "2           2051.4    75755.32     246.76     0.238333  \n",
       "3           2051.4  1870661.52    6093.36  5238.051739  \n",
       "4           2051.4   165500.63     539.09     0.420909  "
      ]
     },
     "execution_count": 3,
     "metadata": {},
     "output_type": "execute_result"
    }
   ],
   "source": [
    "df.head()"
   ]
  },
  {
   "cell_type": "code",
   "execution_count": 4,
   "id": "5881d904-057d-446d-8a3f-c80e6a4e067d",
   "metadata": {},
   "outputs": [
    {
     "data": {
      "text/plain": [
       "Crop               0\n",
       "Crop_Year          0\n",
       "Season             0\n",
       "State              0\n",
       "Area               0\n",
       "Production         0\n",
       "Annual_Rainfall    0\n",
       "Fertilizer         0\n",
       "Pesticide          0\n",
       "Yield              0\n",
       "dtype: int64"
      ]
     },
     "execution_count": 4,
     "metadata": {},
     "output_type": "execute_result"
    }
   ],
   "source": [
    "df.isna().sum()"
   ]
  },
  {
   "cell_type": "code",
   "execution_count": 5,
   "id": "247b63af-2890-4233-a768-39f754c49ed1",
   "metadata": {},
   "outputs": [
    {
     "name": "stdout",
     "output_type": "stream",
     "text": [
      "<class 'pandas.core.frame.DataFrame'>\n",
      "RangeIndex: 19689 entries, 0 to 19688\n",
      "Data columns (total 10 columns):\n",
      " #   Column           Non-Null Count  Dtype  \n",
      "---  ------           --------------  -----  \n",
      " 0   Crop             19689 non-null  object \n",
      " 1   Crop_Year        19689 non-null  int64  \n",
      " 2   Season           19689 non-null  object \n",
      " 3   State            19689 non-null  object \n",
      " 4   Area             19689 non-null  float64\n",
      " 5   Production       19689 non-null  int64  \n",
      " 6   Annual_Rainfall  19689 non-null  float64\n",
      " 7   Fertilizer       19689 non-null  float64\n",
      " 8   Pesticide        19689 non-null  float64\n",
      " 9   Yield            19689 non-null  float64\n",
      "dtypes: float64(5), int64(2), object(3)\n",
      "memory usage: 1.5+ MB\n"
     ]
    }
   ],
   "source": [
    "df.info()"
   ]
  },
  {
   "cell_type": "markdown",
   "id": "1810d6cd-ad0a-483d-b85f-870307ba8952",
   "metadata": {},
   "source": [
    "**Categorical**\n",
    "1. Crop\n",
    "2. Season\n",
    "3. State"
   ]
  },
  {
   "cell_type": "code",
   "execution_count": 8,
   "id": "ff20bec9-7676-4d20-a9cd-f3b824beff97",
   "metadata": {},
   "outputs": [
    {
     "data": {
      "text/plain": [
       "Crop\n",
       "Rice                     1197\n",
       "Maize                     975\n",
       "Moong(Green Gram)         740\n",
       "Urad                      733\n",
       "Groundnut                 725\n",
       "Sesamum                   685\n",
       "Potato                    628\n",
       "Sugarcane                 605\n",
       "Wheat                     545\n",
       "Rapeseed &Mustard         528\n",
       "Bajra                     524\n",
       "Jowar                     513\n",
       "Arhar/Tur                 508\n",
       "Ragi                      498\n",
       "Gram                      490\n",
       "Small millets             485\n",
       "Cotton(lint)              476\n",
       "Onion                     454\n",
       "Sunflower                 441\n",
       "Dry chillies              419\n",
       "Other Kharif pulses       382\n",
       "Horse-gram                371\n",
       "Peas & beans (Pulses)     369\n",
       "Tobacco                   364\n",
       "Other  Rabi pulses        355\n",
       "Soyabean                  349\n",
       "Turmeric                  337\n",
       "Masoor                    324\n",
       "Ginger                    323\n",
       "Linseed                   308\n",
       "Castor seed               300\n",
       "Barley                    297\n",
       "Sweet potato              273\n",
       "Garlic                    250\n",
       "Banana                    245\n",
       "Mesta                     210\n",
       "Tapioca                   201\n",
       "Coriander                 199\n",
       "Niger seed                192\n",
       "Jute                      181\n",
       "Coconut                   172\n",
       "Safflower                 169\n",
       "Arecanut                  162\n",
       "Sannhamp                  160\n",
       "Other Cereals             146\n",
       "Cowpea(Lobia)             134\n",
       "Cashewnut                 134\n",
       "Black pepper              126\n",
       "other oilseeds            126\n",
       "Moth                      110\n",
       "Khesari                    75\n",
       "Cardamom                   74\n",
       "Guar seed                  63\n",
       "Oilseeds total             29\n",
       "Other Summer Pulses        10\n",
       "Name: count, dtype: int64"
      ]
     },
     "execution_count": 8,
     "metadata": {},
     "output_type": "execute_result"
    }
   ],
   "source": [
    "df.Crop.value_counts()"
   ]
  },
  {
   "cell_type": "code",
   "execution_count": 9,
   "id": "c3e972ce-839e-49c7-90d8-68c85f74e1f8",
   "metadata": {},
   "outputs": [
    {
     "data": {
      "text/plain": [
       "Season\n",
       "Kharif         8232\n",
       "Rabi           5742\n",
       "Whole Year     3717\n",
       "Summer         1195\n",
       "Autumn          414\n",
       "Winter          389\n",
       "Name: count, dtype: int64"
      ]
     },
     "execution_count": 9,
     "metadata": {},
     "output_type": "execute_result"
    }
   ],
   "source": [
    "df.Season.value_counts()"
   ]
  },
  {
   "cell_type": "code",
   "execution_count": 10,
   "id": "221c767b-f57d-432f-85f0-9986f431c401",
   "metadata": {},
   "outputs": [
    {
     "data": {
      "text/plain": [
       "State\n",
       "Karnataka            1432\n",
       "Andhra Pradesh       1266\n",
       "West Bengal          1094\n",
       "Chhattisgarh          915\n",
       "Bihar                 896\n",
       "Madhya Pradesh        845\n",
       "Uttar Pradesh         825\n",
       "Tamil Nadu            822\n",
       "Gujarat               817\n",
       "Maharashtra           770\n",
       "Uttarakhand           764\n",
       "Odisha                760\n",
       "Assam                 731\n",
       "Nagaland              689\n",
       "Puducherry            670\n",
       "Meghalaya             649\n",
       "Haryana               631\n",
       "Jammu and Kashmir     631\n",
       "Himachal Pradesh      616\n",
       "Kerala                534\n",
       "Manipur               444\n",
       "Tripura               441\n",
       "Mizoram               416\n",
       "Telangana             397\n",
       "Punjab                397\n",
       "Arunachal Pradesh     292\n",
       "Jharkhand             270\n",
       "Goa                   246\n",
       "Sikkim                226\n",
       "Delhi                 203\n",
       "Name: count, dtype: int64"
      ]
     },
     "execution_count": 10,
     "metadata": {},
     "output_type": "execute_result"
    }
   ],
   "source": [
    "df.State.value_counts()"
   ]
  },
  {
   "cell_type": "code",
   "execution_count": 12,
   "id": "d5c4a138-901d-41c7-b9df-a813d854574b",
   "metadata": {},
   "outputs": [],
   "source": [
    "for label,content in df.items():\n",
    "    if not pd.api.types.is_numeric_dtype(content):\n",
    "        df[label]=pd.Categorical(df[label]).codes+1"
   ]
  },
  {
   "cell_type": "code",
   "execution_count": 13,
   "id": "b7e165c5-07a7-4f52-bb03-3c83d338bbf4",
   "metadata": {},
   "outputs": [
    {
     "data": {
      "text/plain": [
       "0         1\n",
       "1         2\n",
       "2         9\n",
       "3        10\n",
       "4        12\n",
       "         ..\n",
       "19684    45\n",
       "19685    54\n",
       "19686    25\n",
       "19687    41\n",
       "19688    54\n",
       "Name: Crop, Length: 19689, dtype: int8"
      ]
     },
     "execution_count": 13,
     "metadata": {},
     "output_type": "execute_result"
    }
   ],
   "source": [
    "df.Crop"
   ]
  },
  {
   "cell_type": "code",
   "execution_count": 14,
   "id": "2d92fb59-7894-4edc-892f-86c34de028b5",
   "metadata": {},
   "outputs": [
    {
     "data": {
      "text/plain": [
       "Crop\n",
       "41    1197\n",
       "25     975\n",
       "28     740\n",
       "53     733\n",
       "18     725\n",
       "44     685\n",
       "38     628\n",
       "47     605\n",
       "54     545\n",
       "40     528\n",
       "3      524\n",
       "21     513\n",
       "2      508\n",
       "39     498\n",
       "17     490\n",
       "45     485\n",
       "12     476\n",
       "32     454\n",
       "48     441\n",
       "14     419\n",
       "35     382\n",
       "20     371\n",
       "37     369\n",
       "51     364\n",
       "33     355\n",
       "46     349\n",
       "52     337\n",
       "26     324\n",
       "16     323\n",
       "24     308\n",
       "9      300\n",
       "5      297\n",
       "49     273\n",
       "15     250\n",
       "4      245\n",
       "27     210\n",
       "50     201\n",
       "11     199\n",
       "30     192\n",
       "22     181\n",
       "10     172\n",
       "42     169\n",
       "1      162\n",
       "43     160\n",
       "34     146\n",
       "13     134\n",
       "8      134\n",
       "6      126\n",
       "55     126\n",
       "29     110\n",
       "23      75\n",
       "7       74\n",
       "19      63\n",
       "31      29\n",
       "36      10\n",
       "Name: count, dtype: int64"
      ]
     },
     "execution_count": 14,
     "metadata": {},
     "output_type": "execute_result"
    }
   ],
   "source": [
    "df.Crop.value_counts()"
   ]
  },
  {
   "cell_type": "code",
   "execution_count": 15,
   "id": "c84aec03-e37f-4b81-ad58-ca454341cbd6",
   "metadata": {},
   "outputs": [
    {
     "data": {
      "text/plain": [
       "Season\n",
       "2    8232\n",
       "3    5742\n",
       "5    3717\n",
       "4    1195\n",
       "1     414\n",
       "6     389\n",
       "Name: count, dtype: int64"
      ]
     },
     "execution_count": 15,
     "metadata": {},
     "output_type": "execute_result"
    }
   ],
   "source": [
    "df.Season.value_counts()"
   ]
  },
  {
   "cell_type": "code",
   "execution_count": 16,
   "id": "0c914136-4e6f-4d63-a74e-7a578701b6e5",
   "metadata": {
    "scrolled": true
   },
   "outputs": [
    {
     "data": {
      "text/plain": [
       "State\n",
       "13    1432\n",
       "1     1266\n",
       "30    1094\n",
       "5      915\n",
       "4      896\n",
       "15     845\n",
       "28     825\n",
       "25     822\n",
       "8      817\n",
       "16     770\n",
       "29     764\n",
       "21     760\n",
       "3      731\n",
       "20     689\n",
       "22     670\n",
       "18     649\n",
       "9      631\n",
       "11     631\n",
       "10     616\n",
       "14     534\n",
       "17     444\n",
       "27     441\n",
       "19     416\n",
       "26     397\n",
       "23     397\n",
       "2      292\n",
       "12     270\n",
       "7      246\n",
       "24     226\n",
       "6      203\n",
       "Name: count, dtype: int64"
      ]
     },
     "execution_count": 16,
     "metadata": {},
     "output_type": "execute_result"
    }
   ],
   "source": [
    "df.State.value_counts()"
   ]
  },
  {
   "cell_type": "code",
   "execution_count": 84,
   "id": "1bdaa9f6-6428-4e34-86ea-4a8b50c923b0",
   "metadata": {},
   "outputs": [
    {
     "name": "stdout",
     "output_type": "stream",
     "text": [
      "Requirement already satisfied: scikit-learn in d:\\ml\\milestone_1\\env\\lib\\site-packages (1.2.2)\n",
      "Collecting scikit-learn\n",
      "  Downloading scikit_learn-1.5.1-cp311-cp311-win_amd64.whl.metadata (12 kB)\n",
      "Requirement already satisfied: numpy>=1.19.5 in d:\\ml\\milestone_1\\env\\lib\\site-packages (from scikit-learn) (1.26.2)\n",
      "Requirement already satisfied: scipy>=1.6.0 in d:\\ml\\milestone_1\\env\\lib\\site-packages (from scikit-learn) (1.11.4)\n",
      "Requirement already satisfied: joblib>=1.2.0 in d:\\ml\\milestone_1\\env\\lib\\site-packages (from scikit-learn) (1.2.0)\n",
      "Collecting threadpoolctl>=3.1.0 (from scikit-learn)\n",
      "  Downloading threadpoolctl-3.5.0-py3-none-any.whl.metadata (13 kB)\n",
      "Downloading scikit_learn-1.5.1-cp311-cp311-win_amd64.whl (11.0 MB)\n",
      "   ---------------------------------------- 0.0/11.0 MB ? eta -:--:--\n",
      "    --------------------------------------- 0.3/11.0 MB 7.7 MB/s eta 0:00:02\n",
      "   - -------------------------------------- 0.5/11.0 MB 6.7 MB/s eta 0:00:02\n",
      "   --- ------------------------------------ 1.0/11.0 MB 7.8 MB/s eta 0:00:02\n",
      "   ----- ---------------------------------- 1.4/11.0 MB 8.2 MB/s eta 0:00:02\n",
      "   ------ --------------------------------- 1.7/11.0 MB 7.9 MB/s eta 0:00:02\n",
      "   ------- -------------------------------- 2.1/11.0 MB 7.8 MB/s eta 0:00:02\n",
      "   --------- ------------------------------ 2.5/11.0 MB 8.0 MB/s eta 0:00:02\n",
      "   ---------- ----------------------------- 3.0/11.0 MB 8.2 MB/s eta 0:00:01\n",
      "   ----------- ---------------------------- 3.3/11.0 MB 8.3 MB/s eta 0:00:01\n",
      "   ------------- -------------------------- 3.7/11.0 MB 8.2 MB/s eta 0:00:01\n",
      "   -------------- ------------------------- 4.1/11.0 MB 8.1 MB/s eta 0:00:01\n",
      "   --------------- ------------------------ 4.4/11.0 MB 8.0 MB/s eta 0:00:01\n",
      "   ----------------- ---------------------- 4.7/11.0 MB 8.1 MB/s eta 0:00:01\n",
      "   ------------------ --------------------- 5.1/11.0 MB 8.1 MB/s eta 0:00:01\n",
      "   ------------------- -------------------- 5.4/11.0 MB 8.1 MB/s eta 0:00:01\n",
      "   -------------------- ------------------- 5.7/11.0 MB 7.7 MB/s eta 0:00:01\n",
      "   ---------------------- ----------------- 6.1/11.0 MB 7.7 MB/s eta 0:00:01\n",
      "   ----------------------- ---------------- 6.5/11.0 MB 7.8 MB/s eta 0:00:01\n",
      "   ------------------------- -------------- 6.9/11.0 MB 7.9 MB/s eta 0:00:01\n",
      "   -------------------------- ------------- 7.2/11.0 MB 7.8 MB/s eta 0:00:01\n",
      "   --------------------------- ------------ 7.6/11.0 MB 8.0 MB/s eta 0:00:01\n",
      "   ---------------------------- ----------- 7.9/11.0 MB 8.0 MB/s eta 0:00:01\n",
      "   ----------------------------- ---------- 8.1/11.0 MB 7.7 MB/s eta 0:00:01\n",
      "   ------------------------------- -------- 8.5/11.0 MB 7.8 MB/s eta 0:00:01\n",
      "   -------------------------------- ------- 8.9/11.0 MB 7.8 MB/s eta 0:00:01\n",
      "   --------------------------------- ------ 9.2/11.0 MB 7.7 MB/s eta 0:00:01\n",
      "   ---------------------------------- ----- 9.6/11.0 MB 7.7 MB/s eta 0:00:01\n",
      "   ------------------------------------ --- 10.0/11.0 MB 7.8 MB/s eta 0:00:01\n",
      "   ------------------------------------- -- 10.3/11.0 MB 7.9 MB/s eta 0:00:01\n",
      "   -------------------------------------- - 10.6/11.0 MB 7.7 MB/s eta 0:00:01\n",
      "   ---------------------------------------  11.0/11.0 MB 7.8 MB/s eta 0:00:01\n",
      "   ---------------------------------------- 11.0/11.0 MB 7.6 MB/s eta 0:00:00\n",
      "Downloading threadpoolctl-3.5.0-py3-none-any.whl (18 kB)\n",
      "Installing collected packages: threadpoolctl, scikit-learn\n",
      "  Attempting uninstall: threadpoolctl\n",
      "    Found existing installation: threadpoolctl 2.2.0\n",
      "    Uninstalling threadpoolctl-2.2.0:\n",
      "      Successfully uninstalled threadpoolctl-2.2.0\n",
      "  Attempting uninstall: scikit-learn\n",
      "    Found existing installation: scikit-learn 1.2.2\n",
      "    Uninstalling scikit-learn-1.2.2:\n",
      "      Successfully uninstalled scikit-learn-1.2.2\n",
      "Successfully installed scikit-learn-1.5.1 threadpoolctl-3.5.0\n"
     ]
    },
    {
     "name": "stderr",
     "output_type": "stream",
     "text": [
      "  WARNING: Failed to remove contents in a temporary directory 'D:\\ml\\milestone_1\\env\\Lib\\site-packages\\~klearn'.\n",
      "  You can safely remove it manually.\n"
     ]
    }
   ],
   "source": [
    "!pip install --upgrade scikit-learn"
   ]
  },
  {
   "cell_type": "code",
   "execution_count": 87,
   "id": "661e53f3-14d1-4948-a1a5-a70550ccba6e",
   "metadata": {},
   "outputs": [
    {
     "data": {
      "text/plain": [
       "'1.2.2'"
      ]
     },
     "execution_count": 87,
     "metadata": {},
     "output_type": "execute_result"
    }
   ],
   "source": [
    "import sklearn\n",
    "sklearn.__version__"
   ]
  },
  {
   "cell_type": "code",
   "execution_count": 82,
   "id": "6ede6330-00b1-42e1-8941-db2cf07cbca2",
   "metadata": {},
   "outputs": [],
   "source": [
    "from sklearn.model_selection import train_test_split\n",
    "X=df.drop(\"Yield\",axis=1)\n",
    "y=df[\"Yield\"]\n",
    "X_train,X_test,y_train,y_test=train_test_split(X,y,test_size=0.2)"
   ]
  },
  {
   "cell_type": "code",
   "execution_count": 19,
   "id": "c13e51ee-02bf-4b34-9778-0a4287218717",
   "metadata": {},
   "outputs": [
    {
     "data": {
      "text/html": [
       "<div>\n",
       "<style scoped>\n",
       "    .dataframe tbody tr th:only-of-type {\n",
       "        vertical-align: middle;\n",
       "    }\n",
       "\n",
       "    .dataframe tbody tr th {\n",
       "        vertical-align: top;\n",
       "    }\n",
       "\n",
       "    .dataframe thead th {\n",
       "        text-align: right;\n",
       "    }\n",
       "</style>\n",
       "<table border=\"1\" class=\"dataframe\">\n",
       "  <thead>\n",
       "    <tr style=\"text-align: right;\">\n",
       "      <th></th>\n",
       "      <th>Crop</th>\n",
       "      <th>Crop_Year</th>\n",
       "      <th>Season</th>\n",
       "      <th>State</th>\n",
       "      <th>Area</th>\n",
       "      <th>Production</th>\n",
       "      <th>Annual_Rainfall</th>\n",
       "      <th>Fertilizer</th>\n",
       "      <th>Pesticide</th>\n",
       "    </tr>\n",
       "  </thead>\n",
       "  <tbody>\n",
       "    <tr>\n",
       "      <th>1250</th>\n",
       "      <td>32</td>\n",
       "      <td>2003</td>\n",
       "      <td>3</td>\n",
       "      <td>1</td>\n",
       "      <td>12187.0</td>\n",
       "      <td>284935</td>\n",
       "      <td>826.0</td>\n",
       "      <td>1206269.26</td>\n",
       "      <td>2924.88</td>\n",
       "    </tr>\n",
       "    <tr>\n",
       "      <th>13125</th>\n",
       "      <td>52</td>\n",
       "      <td>2013</td>\n",
       "      <td>5</td>\n",
       "      <td>5</td>\n",
       "      <td>1123.0</td>\n",
       "      <td>958</td>\n",
       "      <td>1418.3</td>\n",
       "      <td>162262.27</td>\n",
       "      <td>303.21</td>\n",
       "    </tr>\n",
       "    <tr>\n",
       "      <th>8497</th>\n",
       "      <td>12</td>\n",
       "      <td>2003</td>\n",
       "      <td>2</td>\n",
       "      <td>9</td>\n",
       "      <td>526038.0</td>\n",
       "      <td>1407000</td>\n",
       "      <td>592.3</td>\n",
       "      <td>52067241.24</td>\n",
       "      <td>126249.12</td>\n",
       "    </tr>\n",
       "    <tr>\n",
       "      <th>11197</th>\n",
       "      <td>25</td>\n",
       "      <td>2009</td>\n",
       "      <td>2</td>\n",
       "      <td>20</td>\n",
       "      <td>63100.0</td>\n",
       "      <td>65690</td>\n",
       "      <td>1225.9</td>\n",
       "      <td>9832242.00</td>\n",
       "      <td>10727.00</td>\n",
       "    </tr>\n",
       "    <tr>\n",
       "      <th>5940</th>\n",
       "      <td>1</td>\n",
       "      <td>2019</td>\n",
       "      <td>5</td>\n",
       "      <td>7</td>\n",
       "      <td>1971.0</td>\n",
       "      <td>3704</td>\n",
       "      <td>4489.5</td>\n",
       "      <td>338538.96</td>\n",
       "      <td>729.27</td>\n",
       "    </tr>\n",
       "  </tbody>\n",
       "</table>\n",
       "</div>"
      ],
      "text/plain": [
       "       Crop  Crop_Year  Season  State      Area  Production  Annual_Rainfall  \\\n",
       "1250     32       2003       3      1   12187.0      284935            826.0   \n",
       "13125    52       2013       5      5    1123.0         958           1418.3   \n",
       "8497     12       2003       2      9  526038.0     1407000            592.3   \n",
       "11197    25       2009       2     20   63100.0       65690           1225.9   \n",
       "5940      1       2019       5      7    1971.0        3704           4489.5   \n",
       "\n",
       "        Fertilizer  Pesticide  \n",
       "1250    1206269.26    2924.88  \n",
       "13125    162262.27     303.21  \n",
       "8497   52067241.24  126249.12  \n",
       "11197   9832242.00   10727.00  \n",
       "5940     338538.96     729.27  "
      ]
     },
     "execution_count": 19,
     "metadata": {},
     "output_type": "execute_result"
    }
   ],
   "source": [
    "X_train.head()"
   ]
  },
  {
   "cell_type": "code",
   "execution_count": 57,
   "id": "ac979864-6201-4aed-a86b-7c63fd5be8fe",
   "metadata": {},
   "outputs": [
    {
     "data": {
      "text/html": [
       "<style>#sk-container-id-3 {color: black;background-color: white;}#sk-container-id-3 pre{padding: 0;}#sk-container-id-3 div.sk-toggleable {background-color: white;}#sk-container-id-3 label.sk-toggleable__label {cursor: pointer;display: block;width: 100%;margin-bottom: 0;padding: 0.3em;box-sizing: border-box;text-align: center;}#sk-container-id-3 label.sk-toggleable__label-arrow:before {content: \"▸\";float: left;margin-right: 0.25em;color: #696969;}#sk-container-id-3 label.sk-toggleable__label-arrow:hover:before {color: black;}#sk-container-id-3 div.sk-estimator:hover label.sk-toggleable__label-arrow:before {color: black;}#sk-container-id-3 div.sk-toggleable__content {max-height: 0;max-width: 0;overflow: hidden;text-align: left;background-color: #f0f8ff;}#sk-container-id-3 div.sk-toggleable__content pre {margin: 0.2em;color: black;border-radius: 0.25em;background-color: #f0f8ff;}#sk-container-id-3 input.sk-toggleable__control:checked~div.sk-toggleable__content {max-height: 200px;max-width: 100%;overflow: auto;}#sk-container-id-3 input.sk-toggleable__control:checked~label.sk-toggleable__label-arrow:before {content: \"▾\";}#sk-container-id-3 div.sk-estimator input.sk-toggleable__control:checked~label.sk-toggleable__label {background-color: #d4ebff;}#sk-container-id-3 div.sk-label input.sk-toggleable__control:checked~label.sk-toggleable__label {background-color: #d4ebff;}#sk-container-id-3 input.sk-hidden--visually {border: 0;clip: rect(1px 1px 1px 1px);clip: rect(1px, 1px, 1px, 1px);height: 1px;margin: -1px;overflow: hidden;padding: 0;position: absolute;width: 1px;}#sk-container-id-3 div.sk-estimator {font-family: monospace;background-color: #f0f8ff;border: 1px dotted black;border-radius: 0.25em;box-sizing: border-box;margin-bottom: 0.5em;}#sk-container-id-3 div.sk-estimator:hover {background-color: #d4ebff;}#sk-container-id-3 div.sk-parallel-item::after {content: \"\";width: 100%;border-bottom: 1px solid gray;flex-grow: 1;}#sk-container-id-3 div.sk-label:hover label.sk-toggleable__label {background-color: #d4ebff;}#sk-container-id-3 div.sk-serial::before {content: \"\";position: absolute;border-left: 1px solid gray;box-sizing: border-box;top: 0;bottom: 0;left: 50%;z-index: 0;}#sk-container-id-3 div.sk-serial {display: flex;flex-direction: column;align-items: center;background-color: white;padding-right: 0.2em;padding-left: 0.2em;position: relative;}#sk-container-id-3 div.sk-item {position: relative;z-index: 1;}#sk-container-id-3 div.sk-parallel {display: flex;align-items: stretch;justify-content: center;background-color: white;position: relative;}#sk-container-id-3 div.sk-item::before, #sk-container-id-3 div.sk-parallel-item::before {content: \"\";position: absolute;border-left: 1px solid gray;box-sizing: border-box;top: 0;bottom: 0;left: 50%;z-index: -1;}#sk-container-id-3 div.sk-parallel-item {display: flex;flex-direction: column;z-index: 1;position: relative;background-color: white;}#sk-container-id-3 div.sk-parallel-item:first-child::after {align-self: flex-end;width: 50%;}#sk-container-id-3 div.sk-parallel-item:last-child::after {align-self: flex-start;width: 50%;}#sk-container-id-3 div.sk-parallel-item:only-child::after {width: 0;}#sk-container-id-3 div.sk-dashed-wrapped {border: 1px dashed gray;margin: 0 0.4em 0.5em 0.4em;box-sizing: border-box;padding-bottom: 0.4em;background-color: white;}#sk-container-id-3 div.sk-label label {font-family: monospace;font-weight: bold;display: inline-block;line-height: 1.2em;}#sk-container-id-3 div.sk-label-container {text-align: center;}#sk-container-id-3 div.sk-container {/* jupyter's `normalize.less` sets `[hidden] { display: none; }` but bootstrap.min.css set `[hidden] { display: none !important; }` so we also need the `!important` here to be able to override the default hidden behavior on the sphinx rendered scikit-learn.org. See: https://github.com/scikit-learn/scikit-learn/issues/21755 */display: inline-block !important;position: relative;}#sk-container-id-3 div.sk-text-repr-fallback {display: none;}</style><div id=\"sk-container-id-3\" class=\"sk-top-container\"><div class=\"sk-text-repr-fallback\"><pre>RandomForestRegressor(n_estimators=50, n_jobs=-1, random_state=42)</pre><b>In a Jupyter environment, please rerun this cell to show the HTML representation or trust the notebook. <br />On GitHub, the HTML representation is unable to render, please try loading this page with nbviewer.org.</b></div><div class=\"sk-container\" hidden><div class=\"sk-item\"><div class=\"sk-estimator sk-toggleable\"><input class=\"sk-toggleable__control sk-hidden--visually\" id=\"sk-estimator-id-3\" type=\"checkbox\" checked><label for=\"sk-estimator-id-3\" class=\"sk-toggleable__label sk-toggleable__label-arrow\">RandomForestRegressor</label><div class=\"sk-toggleable__content\"><pre>RandomForestRegressor(n_estimators=50, n_jobs=-1, random_state=42)</pre></div></div></div></div></div>"
      ],
      "text/plain": [
       "RandomForestRegressor(n_estimators=50, n_jobs=-1, random_state=42)"
      ]
     },
     "execution_count": 57,
     "metadata": {},
     "output_type": "execute_result"
    }
   ],
   "source": [
    "from sklearn.ensemble import RandomForestRegressor\n",
    "model=RandomForestRegressor(n_estimators=50, n_jobs=-1,random_state=42)\n",
    "model.fit(X_train,y_train)"
   ]
  },
  {
   "cell_type": "code",
   "execution_count": 58,
   "id": "c87d9786-1724-48e4-a07d-5f59c8506e29",
   "metadata": {},
   "outputs": [
    {
     "data": {
      "text/plain": [
       "0.9371943522386218"
      ]
     },
     "execution_count": 58,
     "metadata": {},
     "output_type": "execute_result"
    }
   ],
   "source": [
    "model.score(X_test,y_test)"
   ]
  },
  {
   "cell_type": "code",
   "execution_count": 59,
   "id": "d188deec-b523-48f7-8dcf-d685cebcaf35",
   "metadata": {},
   "outputs": [],
   "source": [
    "from sklearn.metrics import r2_score,mean_absolute_error\n",
    "y_preds=model.predict(X_test)\n",
    "r2=r2_score(y_test,y_preds)\n",
    "mae=mean_absolute_error(y_test,y_preds)"
   ]
  },
  {
   "cell_type": "code",
   "execution_count": 60,
   "id": "fcc033cb-3012-4ad6-af09-538d1c7259e5",
   "metadata": {},
   "outputs": [
    {
     "name": "stdout",
     "output_type": "stream",
     "text": [
      "R2: 0.9371943522386218\n",
      "MAE: 7.850176105861877\n"
     ]
    }
   ],
   "source": [
    "print(\"R2:\",r2)\n",
    "print(\"MAE:\",mae)"
   ]
  },
  {
   "cell_type": "code",
   "execution_count": 35,
   "id": "a06f046d-fc3f-4144-908c-c4682a9a7dca",
   "metadata": {},
   "outputs": [
    {
     "name": "stdout",
     "output_type": "stream",
     "text": [
      "Collecting ibm-watson-machine-learning\n",
      "  Downloading ibm_watson_machine_learning-1.0.360-py3-none-any.whl.metadata (4.0 kB)\n",
      "Requirement already satisfied: requests in d:\\ml\\milestone_1\\env\\lib\\site-packages (from ibm-watson-machine-learning) (2.31.0)\n",
      "Requirement already satisfied: urllib3 in d:\\ml\\milestone_1\\env\\lib\\site-packages (from ibm-watson-machine-learning) (1.26.18)\n",
      "Requirement already satisfied: pandas<2.2.0,>=0.24.2 in d:\\ml\\milestone_1\\env\\lib\\site-packages (from ibm-watson-machine-learning) (2.1.4)\n",
      "Requirement already satisfied: certifi in d:\\ml\\milestone_1\\env\\lib\\site-packages (from ibm-watson-machine-learning) (2023.11.17)\n",
      "Collecting lomond (from ibm-watson-machine-learning)\n",
      "  Downloading lomond-0.3.3-py2.py3-none-any.whl.metadata (4.1 kB)\n",
      "Collecting tabulate (from ibm-watson-machine-learning)\n",
      "  Downloading tabulate-0.9.0-py3-none-any.whl.metadata (34 kB)\n",
      "Requirement already satisfied: packaging in d:\\ml\\milestone_1\\env\\lib\\site-packages (from ibm-watson-machine-learning) (23.1)\n",
      "Collecting ibm-cos-sdk<2.14.0,>=2.12.0 (from ibm-watson-machine-learning)\n",
      "  Downloading ibm-cos-sdk-2.13.6.tar.gz (58 kB)\n",
      "     ---------------------------------------- 0.0/58.6 kB ? eta -:--:--\n",
      "     -------------------- ------------------- 30.7/58.6 kB 1.3 MB/s eta 0:00:01\n",
      "     ---------------------------------------- 58.6/58.6 kB 1.5 MB/s eta 0:00:00\n",
      "  Preparing metadata (setup.py): started\n",
      "  Preparing metadata (setup.py): finished with status 'done'\n",
      "Collecting importlib-metadata (from ibm-watson-machine-learning)\n",
      "  Downloading importlib_metadata-8.4.0-py3-none-any.whl.metadata (4.7 kB)\n",
      "Collecting ibm-cos-sdk-core==2.13.6 (from ibm-cos-sdk<2.14.0,>=2.12.0->ibm-watson-machine-learning)\n",
      "  Downloading ibm-cos-sdk-core-2.13.6.tar.gz (1.1 MB)\n",
      "     ---------------------------------------- 0.0/1.1 MB ? eta -:--:--\n",
      "     ------------ --------------------------- 0.3/1.1 MB 7.2 MB/s eta 0:00:01\n",
      "     ---------------------------- ----------- 0.8/1.1 MB 8.3 MB/s eta 0:00:01\n",
      "     ---------------------------------------  1.1/1.1 MB 8.7 MB/s eta 0:00:01\n",
      "     ---------------------------------------- 1.1/1.1 MB 7.7 MB/s eta 0:00:00\n",
      "  Preparing metadata (setup.py): started\n",
      "  Preparing metadata (setup.py): finished with status 'done'\n",
      "Collecting ibm-cos-sdk-s3transfer==2.13.6 (from ibm-cos-sdk<2.14.0,>=2.12.0->ibm-watson-machine-learning)\n",
      "  Downloading ibm-cos-sdk-s3transfer-2.13.6.tar.gz (139 kB)\n",
      "     ---------------------------------------- 0.0/139.5 kB ? eta -:--:--\n",
      "     -------------------------------------- 139.5/139.5 kB 8.6 MB/s eta 0:00:00\n",
      "  Preparing metadata (setup.py): started\n",
      "  Preparing metadata (setup.py): finished with status 'done'\n",
      "Collecting jmespath<=1.0.1,>=0.10.0 (from ibm-cos-sdk<2.14.0,>=2.12.0->ibm-watson-machine-learning)\n",
      "  Downloading jmespath-1.0.1-py3-none-any.whl.metadata (7.6 kB)\n",
      "Collecting python-dateutil<3.0.0,>=2.9.0 (from ibm-cos-sdk-core==2.13.6->ibm-cos-sdk<2.14.0,>=2.12.0->ibm-watson-machine-learning)\n",
      "  Downloading python_dateutil-2.9.0.post0-py2.py3-none-any.whl.metadata (8.4 kB)\n",
      "Collecting requests (from ibm-watson-machine-learning)\n",
      "  Downloading requests-2.32.2-py3-none-any.whl.metadata (4.6 kB)\n",
      "Requirement already satisfied: numpy<2,>=1.23.2 in d:\\ml\\milestone_1\\env\\lib\\site-packages (from pandas<2.2.0,>=0.24.2->ibm-watson-machine-learning) (1.26.2)\n",
      "Requirement already satisfied: pytz>=2020.1 in d:\\ml\\milestone_1\\env\\lib\\site-packages (from pandas<2.2.0,>=0.24.2->ibm-watson-machine-learning) (2023.3.post1)\n",
      "Requirement already satisfied: tzdata>=2022.1 in d:\\ml\\milestone_1\\env\\lib\\site-packages (from pandas<2.2.0,>=0.24.2->ibm-watson-machine-learning) (2023.3)\n",
      "Requirement already satisfied: charset-normalizer<4,>=2 in d:\\ml\\milestone_1\\env\\lib\\site-packages (from requests->ibm-watson-machine-learning) (2.0.4)\n",
      "Requirement already satisfied: idna<4,>=2.5 in d:\\ml\\milestone_1\\env\\lib\\site-packages (from requests->ibm-watson-machine-learning) (3.4)\n",
      "Collecting zipp>=0.5 (from importlib-metadata->ibm-watson-machine-learning)\n",
      "  Downloading zipp-3.20.0-py3-none-any.whl.metadata (3.6 kB)\n",
      "Requirement already satisfied: six>=1.10.0 in d:\\ml\\milestone_1\\env\\lib\\site-packages (from lomond->ibm-watson-machine-learning) (1.16.0)\n",
      "Downloading ibm_watson_machine_learning-1.0.360-py3-none-any.whl (1.3 MB)\n",
      "   ---------------------------------------- 0.0/1.3 MB ? eta -:--:--\n",
      "   --------------- ------------------------ 0.5/1.3 MB 10.9 MB/s eta 0:00:01\n",
      "   ---------------------------- ----------- 0.9/1.3 MB 9.9 MB/s eta 0:00:01\n",
      "   ---------------------------------------  1.3/1.3 MB 9.2 MB/s eta 0:00:01\n",
      "   ---------------------------------------  1.3/1.3 MB 9.2 MB/s eta 0:00:01\n",
      "   ---------------------------------------  1.3/1.3 MB 9.2 MB/s eta 0:00:01\n",
      "   ---------------------------------------- 1.3/1.3 MB 5.2 MB/s eta 0:00:00\n",
      "Downloading requests-2.32.2-py3-none-any.whl (63 kB)\n",
      "   ---------------------------------------- 0.0/63.9 kB ? eta -:--:--\n",
      "   ---------------------------------------- 63.9/63.9 kB 3.4 MB/s eta 0:00:00\n",
      "Downloading importlib_metadata-8.4.0-py3-none-any.whl (26 kB)\n",
      "Downloading lomond-0.3.3-py2.py3-none-any.whl (35 kB)\n",
      "Downloading tabulate-0.9.0-py3-none-any.whl (35 kB)\n",
      "Downloading jmespath-1.0.1-py3-none-any.whl (20 kB)\n",
      "Downloading python_dateutil-2.9.0.post0-py2.py3-none-any.whl (229 kB)\n",
      "   ---------------------------------------- 0.0/229.9 kB ? eta -:--:--\n",
      "   ---------------------------------------- 229.9/229.9 kB 6.9 MB/s eta 0:00:00\n",
      "Downloading zipp-3.20.0-py3-none-any.whl (9.4 kB)\n",
      "Building wheels for collected packages: ibm-cos-sdk, ibm-cos-sdk-core, ibm-cos-sdk-s3transfer\n",
      "  Building wheel for ibm-cos-sdk (setup.py): started\n",
      "  Building wheel for ibm-cos-sdk (setup.py): finished with status 'done'\n",
      "  Created wheel for ibm-cos-sdk: filename=ibm_cos_sdk-2.13.6-py3-none-any.whl size=77256 sha256=f64d5eea164047d58f408f664df3d6d374f70b87f20df47444d1e367584fb507\n",
      "  Stored in directory: c:\\users\\hp\\appdata\\local\\pip\\cache\\wheels\\17\\8c\\76\\f9472a53a2a80da414dd53ca55f08dbfe48ed6de76e51e3d5f\n",
      "  Building wheel for ibm-cos-sdk-core (setup.py): started\n",
      "  Building wheel for ibm-cos-sdk-core (setup.py): finished with status 'done'\n",
      "  Created wheel for ibm-cos-sdk-core: filename=ibm_cos_sdk_core-2.13.6-py3-none-any.whl size=661475 sha256=a6d4f0dd1e38b5faf1e54b8b3a3973e5100358f0c7851007f381ad8639e108d5\n",
      "  Stored in directory: c:\\users\\hp\\appdata\\local\\pip\\cache\\wheels\\ec\\8e\\58\\e0fdc8135343f394de9c98a48ed20adf698600e01b16ea46bc\n",
      "  Building wheel for ibm-cos-sdk-s3transfer (setup.py): started\n",
      "  Building wheel for ibm-cos-sdk-s3transfer (setup.py): finished with status 'done'\n",
      "  Created wheel for ibm-cos-sdk-s3transfer: filename=ibm_cos_sdk_s3transfer-2.13.6-py3-none-any.whl size=90213 sha256=18a0755234c80b0ac4858aeb24cf5a1a7b3846f4a123f6bae610d020f56015eb\n",
      "  Stored in directory: c:\\users\\hp\\appdata\\local\\pip\\cache\\wheels\\52\\71\\63\\176f15a501fd18265938e1c0b2928f9f380b96e3fc15680c80\n",
      "Successfully built ibm-cos-sdk ibm-cos-sdk-core ibm-cos-sdk-s3transfer\n",
      "Installing collected packages: zipp, tabulate, requests, python-dateutil, lomond, jmespath, importlib-metadata, ibm-cos-sdk-core, ibm-cos-sdk-s3transfer, ibm-cos-sdk, ibm-watson-machine-learning\n",
      "  Attempting uninstall: requests\n",
      "    Found existing installation: requests 2.31.0\n",
      "    Uninstalling requests-2.31.0:\n",
      "      Successfully uninstalled requests-2.31.0\n",
      "  Attempting uninstall: python-dateutil\n",
      "    Found existing installation: python-dateutil 2.8.2\n",
      "    Uninstalling python-dateutil-2.8.2:\n",
      "      Successfully uninstalled python-dateutil-2.8.2\n",
      "Successfully installed ibm-cos-sdk-2.13.6 ibm-cos-sdk-core-2.13.6 ibm-cos-sdk-s3transfer-2.13.6 ibm-watson-machine-learning-1.0.360 importlib-metadata-8.4.0 jmespath-1.0.1 lomond-0.3.3 python-dateutil-2.9.0.post0 requests-2.32.2 tabulate-0.9.0 zipp-3.20.0\n"
     ]
    }
   ],
   "source": [
    "!pip install -U ibm-watson-machine-learning"
   ]
  },
  {
   "cell_type": "code",
   "execution_count": 61,
   "id": "15a3b68f-94c3-405f-8f84-8e2ed959efea",
   "metadata": {},
   "outputs": [],
   "source": [
    "import pickle"
   ]
  },
  {
   "cell_type": "code",
   "execution_count": 62,
   "id": "8628d66f-cf01-49a2-a70e-f49a6a2026a6",
   "metadata": {},
   "outputs": [],
   "source": [
    "with open(\"yield_model.sav\",\"wb\") as f:\n",
    "    pickle.dump(model,f)"
   ]
  },
  {
   "cell_type": "code",
   "execution_count": 63,
   "id": "5548b3bf-ec01-4d77-81fb-aaac8889b10a",
   "metadata": {},
   "outputs": [],
   "source": [
    "with open(\"yield_model.sav\",\"rb\") as f:\n",
    "    model_1=pickle.load(f)"
   ]
  },
  {
   "cell_type": "code",
   "execution_count": 64,
   "id": "9bc19bcc-a733-4403-9f33-d90a6ac24f0b",
   "metadata": {},
   "outputs": [
    {
     "data": {
      "text/plain": [
       "0.9371943522386218"
      ]
     },
     "execution_count": 64,
     "metadata": {},
     "output_type": "execute_result"
    }
   ],
   "source": [
    "model_1.score(X_test,y_test)"
   ]
  },
  {
   "cell_type": "code",
   "execution_count": 65,
   "id": "183f51a1-d8f1-4f2d-a11f-376947153cf3",
   "metadata": {},
   "outputs": [],
   "source": [
    "import joblib"
   ]
  },
  {
   "cell_type": "code",
   "execution_count": 66,
   "id": "bf9c0fd8-75f8-4e7e-9006-694462bd1595",
   "metadata": {},
   "outputs": [
    {
     "data": {
      "text/plain": [
       "['yield_model_jb']"
      ]
     },
     "execution_count": 66,
     "metadata": {},
     "output_type": "execute_result"
    }
   ],
   "source": [
    "joblib.dump(model,\"yield_model_jb\")"
   ]
  },
  {
   "cell_type": "code",
   "execution_count": 67,
   "id": "f25b16d7-7024-4897-97ad-284da9545795",
   "metadata": {},
   "outputs": [
    {
     "name": "stdout",
     "output_type": "stream",
     "text": [
      "Requirement already satisfied: bz2file in d:\\ml\\milestone_1\\env\\lib\\site-packages (0.98)\n"
     ]
    }
   ],
   "source": [
    "!pip install bz2file"
   ]
  },
  {
   "cell_type": "code",
   "execution_count": 68,
   "id": "d28f87bc-1c9c-4122-b6df-e8d96488607c",
   "metadata": {},
   "outputs": [],
   "source": [
    "import bz2file as bz2\n",
    "with bz2.BZ2File('yield_model_cmp.pbz2', 'w') as f:\n",
    "    pickle.dump(model, f)"
   ]
  },
  {
   "cell_type": "code",
   "execution_count": 69,
   "id": "b1daccba-feb7-42f5-aabe-087e131b0922",
   "metadata": {},
   "outputs": [
    {
     "name": "stdout",
     "output_type": "stream",
     "text": [
      "Python 3.11.5\n"
     ]
    }
   ],
   "source": [
    "!python --version"
   ]
  },
  {
   "cell_type": "code",
   "execution_count": 78,
   "id": "a3db569a-6778-43c7-8369-13aed3d4356a",
   "metadata": {},
   "outputs": [
    {
     "name": "stdout",
     "output_type": "stream",
     "text": [
      "<class 'pandas.core.frame.DataFrame'>\n",
      "RangeIndex: 19689 entries, 0 to 19688\n",
      "Data columns (total 10 columns):\n",
      " #   Column           Non-Null Count  Dtype  \n",
      "---  ------           --------------  -----  \n",
      " 0   Crop             19689 non-null  int8   \n",
      " 1   Crop_Year        19689 non-null  int64  \n",
      " 2   Season           19689 non-null  int8   \n",
      " 3   State            19689 non-null  int8   \n",
      " 4   Area             19689 non-null  float64\n",
      " 5   Production       19689 non-null  int64  \n",
      " 6   Annual_Rainfall  19689 non-null  float64\n",
      " 7   Fertilizer       19689 non-null  float64\n",
      " 8   Pesticide        19689 non-null  float64\n",
      " 9   Yield            19689 non-null  float64\n",
      "dtypes: float64(5), int64(2), int8(3)\n",
      "memory usage: 1.1 MB\n"
     ]
    }
   ],
   "source": [
    "df.info()"
   ]
  },
  {
   "cell_type": "code",
   "execution_count": null,
   "id": "c98afb79-e553-404d-8eb5-050037ce72f8",
   "metadata": {},
   "outputs": [],
   "source": []
  }
 ],
 "metadata": {
  "kernelspec": {
   "display_name": "Python 3 (ipykernel)",
   "language": "python",
   "name": "python3"
  },
  "language_info": {
   "codemirror_mode": {
    "name": "ipython",
    "version": 3
   },
   "file_extension": ".py",
   "mimetype": "text/x-python",
   "name": "python",
   "nbconvert_exporter": "python",
   "pygments_lexer": "ipython3",
   "version": "3.11.5"
  }
 },
 "nbformat": 4,
 "nbformat_minor": 5
}
